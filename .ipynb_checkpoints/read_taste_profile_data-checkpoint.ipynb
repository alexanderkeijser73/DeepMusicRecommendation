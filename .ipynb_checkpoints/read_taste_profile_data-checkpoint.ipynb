{
 "cells": [
  {
   "cell_type": "markdown",
   "metadata": {},
   "source": [
    "# Calculate [user x item] array B for WMF"
   ]
  },
  {
   "cell_type": "code",
   "execution_count": 2,
   "metadata": {},
   "outputs": [],
   "source": [
    "import os\n",
    "import collections\n",
    "from scipy.sparse import csr_matrix\n",
    "from sys import getsizeof\n",
    "import numpy as np\n",
    "import pickle"
   ]
  },
  {
   "cell_type": "code",
   "execution_count": 21,
   "metadata": {},
   "outputs": [],
   "source": [
    "   \n",
    "\n",
    "def create_user_item_matrix(filereader, max_lines=1000):\n",
    "    user2i = collections.defaultdict(lambda: len(user2i)) # user to index dict\n",
    "    item2i = collections.defaultdict(lambda: len(item2i)) # item to index dict\n",
    "\n",
    "    rows = [] # row indices (users) for sparse matrix\n",
    "    cols = [] # col indices (items) for sparse matrix\n",
    "    counts = [] # values present at indices given by rows, cols\n",
    "\n",
    "    for i, line in enumerate(f):\n",
    "        user, item, count = line.split()\n",
    "        user_index = user2i[user]\n",
    "        item_index = item2i[item]\n",
    "        rows.append(int(user_index))\n",
    "        cols.append(int(item_index))\n",
    "        counts.append(int(count))\n",
    "        if i == max_lines: break\n",
    "    \n",
    "    user_item_matrix = csr_matrix((np.array(counts), (np.array(rows), np.array(cols))))\n",
    "    return user_item_matrix\n",
    "\n",
    "with open('../taste_profile_subset/train_triplets.txt', encoding='utf8') as f:\n",
    "    user_item_matrix = create_user_item_matrix(f, max_lines=None)"
   ]
  },
  {
   "cell_type": "code",
   "execution_count": 12,
   "metadata": {},
   "outputs": [
    {
     "ename": "NameError",
     "evalue": "name 'user_item_matrix' is not defined",
     "output_type": "error",
     "traceback": [
      "\u001b[1;31m---------------------------------------------------------------------------\u001b[0m",
      "\u001b[1;31mNameError\u001b[0m                                 Traceback (most recent call last)",
      "\u001b[1;32m<ipython-input-12-75e212ed42c6>\u001b[0m in \u001b[0;36m<module>\u001b[1;34m()\u001b[0m\n\u001b[0;32m      1\u001b[0m \u001b[1;32mimport\u001b[0m \u001b[0mpickle\u001b[0m\u001b[1;33m\u001b[0m\u001b[0m\n\u001b[1;32m----> 2\u001b[1;33m \u001b[0mprint\u001b[0m\u001b[1;33m(\u001b[0m\u001b[0muser_item_matrix\u001b[0m\u001b[1;33m.\u001b[0m\u001b[0mshape\u001b[0m\u001b[1;33m)\u001b[0m\u001b[1;33m\u001b[0m\u001b[0m\n\u001b[0m\u001b[0;32m      3\u001b[0m \u001b[0mpickle\u001b[0m\u001b[1;33m.\u001b[0m\u001b[0mdump\u001b[0m\u001b[1;33m(\u001b[0m\u001b[0muser_item_matrix\u001b[0m\u001b[1;33m,\u001b[0m \u001b[0mopen\u001b[0m\u001b[1;33m(\u001b[0m\u001b[1;34m'../user_item_matrix.pkl'\u001b[0m\u001b[1;33m,\u001b[0m \u001b[1;34m'wb'\u001b[0m\u001b[1;33m)\u001b[0m\u001b[1;33m)\u001b[0m\u001b[1;33m\u001b[0m\u001b[0m\n",
      "\u001b[1;31mNameError\u001b[0m: name 'user_item_matrix' is not defined"
     ]
    }
   ],
   "source": [
    "print(user_item_matrix.shape)\n",
    "pickle.dump(user_item_matrix, open('../user_item_matrix.pkl', 'wb'))"
   ]
  },
  {
   "cell_type": "code",
   "execution_count": null,
   "metadata": {},
   "outputs": [
    {
     "name": "stdout",
     "output_type": "stream",
     "text": [
      "precompute transpose\n",
      "  took 4.753 seconds\n",
      "run ALS algorithm\n",
      "  iteration 0\n",
      "    recompute user factors U\n"
     ]
    }
   ],
   "source": [
    "from wmf import wmf\n",
    "pkl_file = open('../user_item_matrix.pkl', 'rb')\n",
    "B = pickle.load(pkl_file)\n",
    "S = wmf.log_surplus_confidence_matrix(B, alpha=2.0, epsilon=1e-6)\n",
    "U, V = wmf.factorize(S, num_factors=41, lambda_reg=1e-5, num_iterations=2, init_std=0.01, verbose=True, dtype='float32', recompute_factors=wmf.recompute_factors_bias)"
   ]
  },
  {
   "cell_type": "code",
   "execution_count": null,
   "metadata": {},
   "outputs": [],
   "source": []
  }
 ],
 "metadata": {
  "kernelspec": {
   "display_name": "Python 3",
   "language": "python",
   "name": "python3"
  },
  "language_info": {
   "codemirror_mode": {
    "name": "ipython",
    "version": 3
   },
   "file_extension": ".py",
   "mimetype": "text/x-python",
   "name": "python",
   "nbconvert_exporter": "python",
   "pygments_lexer": "ipython3",
   "version": "3.7.0"
  }
 },
 "nbformat": 4,
 "nbformat_minor": 2
}
