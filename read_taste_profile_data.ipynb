{
 "cells": [
  {
   "cell_type": "markdown",
   "metadata": {},
   "source": [
    "# Calculate [user x item] array B for WMF"
   ]
  },
  {
   "cell_type": "code",
   "execution_count": 2,
   "metadata": {},
   "outputs": [],
   "source": [
    "import os\n",
    "import collections\n",
    "from scipy.sparse import csr_matrix\n",
    "from sys import getsizeof\n",
    "import numpy as np\n",
    "import pickle"
   ]
  },
  {
   "cell_type": "code",
   "execution_count": 1,
   "metadata": {
    "collapsed": true
   },
   "outputs": [
    {
     "ename": "NameError",
     "evalue": "name 'collections' is not defined",
     "traceback": [
      "\u001b[1;31m---------------------------------------------------------------------------\u001b[0m",
      "\u001b[1;31mNameError\u001b[0m                                 Traceback (most recent call last)",
      "\u001b[1;32m<ipython-input-1-1b4bbaefadc5>\u001b[0m in \u001b[0;36m<module>\u001b[1;34m()\u001b[0m\n\u001b[0;32m     20\u001b[0m \u001b[1;33m\u001b[0m\u001b[0m\n\u001b[0;32m     21\u001b[0m \u001b[1;32mwith\u001b[0m \u001b[0mopen\u001b[0m\u001b[1;33m(\u001b[0m\u001b[1;34m'data/taste_profile_subset/train_triplets.txt'\u001b[0m\u001b[1;33m,\u001b[0m \u001b[0mencoding\u001b[0m\u001b[1;33m=\u001b[0m\u001b[1;34m'utf8'\u001b[0m\u001b[1;33m)\u001b[0m \u001b[1;32mas\u001b[0m \u001b[0mf\u001b[0m\u001b[1;33m:\u001b[0m\u001b[1;33m\u001b[0m\u001b[0m\n\u001b[1;32m---> 22\u001b[1;33m     \u001b[0muser_item_matrix\u001b[0m\u001b[1;33m,\u001b[0m \u001b[0muser2i\u001b[0m\u001b[1;33m,\u001b[0m \u001b[0mitem2i\u001b[0m \u001b[1;33m=\u001b[0m \u001b[0mcreate_user_item_matrix\u001b[0m\u001b[1;33m(\u001b[0m\u001b[0mf\u001b[0m\u001b[1;33m,\u001b[0m \u001b[0mmax_lines\u001b[0m\u001b[1;33m=\u001b[0m\u001b[1;32mNone\u001b[0m\u001b[1;33m)\u001b[0m\u001b[1;33m\u001b[0m\u001b[0m\n\u001b[0m",
      "\u001b[1;32m<ipython-input-1-1b4bbaefadc5>\u001b[0m in \u001b[0;36mcreate_user_item_matrix\u001b[1;34m(filereader, max_lines)\u001b[0m\n\u001b[0;32m      1\u001b[0m \u001b[1;32mdef\u001b[0m \u001b[0mcreate_user_item_matrix\u001b[0m\u001b[1;33m(\u001b[0m\u001b[0mfilereader\u001b[0m\u001b[1;33m,\u001b[0m \u001b[0mmax_lines\u001b[0m\u001b[1;33m=\u001b[0m\u001b[1;36m1000\u001b[0m\u001b[1;33m)\u001b[0m\u001b[1;33m:\u001b[0m\u001b[1;33m\u001b[0m\u001b[0m\n\u001b[1;32m----> 2\u001b[1;33m     \u001b[0muser2i\u001b[0m \u001b[1;33m=\u001b[0m \u001b[0mcollections\u001b[0m\u001b[1;33m.\u001b[0m\u001b[0mdefaultdict\u001b[0m\u001b[1;33m(\u001b[0m\u001b[1;32mlambda\u001b[0m\u001b[1;33m:\u001b[0m \u001b[0mlen\u001b[0m\u001b[1;33m(\u001b[0m\u001b[0muser2i\u001b[0m\u001b[1;33m)\u001b[0m\u001b[1;33m)\u001b[0m \u001b[1;31m# user to index dict\u001b[0m\u001b[1;33m\u001b[0m\u001b[0m\n\u001b[0m\u001b[0;32m      3\u001b[0m     \u001b[0mitem2i\u001b[0m \u001b[1;33m=\u001b[0m \u001b[0mcollections\u001b[0m\u001b[1;33m.\u001b[0m\u001b[0mdefaultdict\u001b[0m\u001b[1;33m(\u001b[0m\u001b[1;32mlambda\u001b[0m\u001b[1;33m:\u001b[0m \u001b[0mlen\u001b[0m\u001b[1;33m(\u001b[0m\u001b[0mitem2i\u001b[0m\u001b[1;33m)\u001b[0m\u001b[1;33m)\u001b[0m \u001b[1;31m# item to index dict\u001b[0m\u001b[1;33m\u001b[0m\u001b[0m\n\u001b[0;32m      4\u001b[0m \u001b[1;33m\u001b[0m\u001b[0m\n\u001b[0;32m      5\u001b[0m     \u001b[0mrows\u001b[0m \u001b[1;33m=\u001b[0m \u001b[1;33m[\u001b[0m\u001b[1;33m]\u001b[0m \u001b[1;31m# row indices (users) for sparse matrix\u001b[0m\u001b[1;33m\u001b[0m\u001b[0m\n",
      "\u001b[1;31mNameError\u001b[0m: name 'collections' is not defined"
     ],
     "output_type": "error"
    }
   ],
   "source": [
    "def create_user_item_matrix(filereader, max_lines=1000):\n",
    "    user2i = collections.defaultdict(lambda: len(user2i)) # user to index dict\n",
    "    item2i = collections.defaultdict(lambda: len(item2i)) # item to index dict\n",
    "\n",
    "    rows = [] # row indices (users) for sparse matrix\n",
    "    cols = [] # col indices (items) for sparse matrix\n",
    "    counts = [] # values present at indices given by rows, cols\n",
    "\n",
    "    for i, line in enumerate(f):\n",
    "        user, item, count = line.split()\n",
    "        user_index = user2i[user]\n",
    "        item_index = item2i[item]\n",
    "        rows.append(int(user_index))\n",
    "        cols.append(int(item_index))\n",
    "        counts.append(int(count))\n",
    "        if i == max_lines: break\n",
    "    \n",
    "    user_item_matrix = csr_matrix((np.array(counts), (np.array(rows), np.array(cols))))\n",
    "    return user_item_matrix, user2i, item2i\n",
    "\n",
    "with open('data/taste_profile_subset/train_triplets.txt', encoding='utf8') as f:\n",
    "    user_item_matrix, user2i, item2i = create_user_item_matrix(f, max_lines=None)"
   ]
  },
  {
   "cell_type": "code",
   "execution_count": 3,
   "metadata": {},
   "outputs": [],
   "source": [
    "wmf_item2i = pickle.load(open('index_dicts.pkl', 'rb'))\n",
    "tra2so = {}\n",
    "with open('data/unique_tracks.txt', encoding='utf8') as f:\n",
    "    for line in f:\n",
    "        tra, so = line.split('<SEP>')[0], line.split('<SEP>')[1]\n",
    "        tra2so[tra] = so\n",
    "        \n"
   ]
  },
  {
   "cell_type": "code",
   "execution_count": 5,
   "metadata": {},
   "outputs": [
    {
     "name": "stdout",
     "output_type": "stream",
     "text": [
      "1000000\n"
     ]
    }
   ],
   "source": [
    "print(len(tra2so))\n",
    "pickle.dump(tra2so, open('track_to_song.pkl', 'wb'))"
   ]
  },
  {
   "cell_type": "code",
   "execution_count": 14,
   "metadata": {},
   "outputs": [
    {
     "name": "stdout",
     "output_type": "stream",
     "text": [
      "(1019318, 384546)\n"
     ]
    }
   ],
   "source": [
    "print(user_item_matrix.shape)\n",
    "index_dicts = {'user2i': dict(user2i), 'item2i': dict(item2i)}\n",
    "pickle.dump(index_dicts, open('index_dicts.pkl', 'wb'))"
   ]
  },
  {
   "cell_type": "code",
   "execution_count": 20,
   "metadata": {},
   "outputs": [
    {
     "name": "stdout",
     "output_type": "stream",
     "text": [
      "precompute transpose\n"
     ]
    },
    {
     "name": "stdout",
     "output_type": "stream",
     "text": [
      "  took 5.501 seconds\nrun ALS algorithm\n"
     ]
    },
    {
     "name": "stdout",
     "output_type": "stream",
     "text": [
      "  iteration 0\n    recompute user factors U\n"
     ]
    },
    {
     "name": "stdout",
     "output_type": "stream",
     "text": [
      "    time since start: 172.978 seconds\n    recompute item factors V\n"
     ]
    },
    {
     "name": "stdout",
     "output_type": "stream",
     "text": [
      "    time since start: 275.081 seconds\n  iteration 1\n    recompute user factors U\n"
     ]
    },
    {
     "name": "stdout",
     "output_type": "stream",
     "text": [
      "    time since start: 446.370 seconds\n    recompute item factors V\n"
     ]
    },
    {
     "name": "stdout",
     "output_type": "stream",
     "text": [
      "    time since start: 549.762 seconds\n  iteration 2\n    recompute user factors U\n"
     ]
    },
    {
     "name": "stdout",
     "output_type": "stream",
     "text": [
      "    time since start: 715.949 seconds\n    recompute item factors V\n"
     ]
    },
    {
     "name": "stdout",
     "output_type": "stream",
     "text": [
      "    time since start: 820.372 seconds\n  iteration 3\n    recompute user factors U\n"
     ]
    },
    {
     "name": "stdout",
     "output_type": "stream",
     "text": [
      "    time since start: 991.764 seconds\n    recompute item factors V\n"
     ]
    },
    {
     "name": "stdout",
     "output_type": "stream",
     "text": [
      "    time since start: 1091.375 seconds\n  iteration 4\n    recompute user factors U\n"
     ]
    },
    {
     "name": "stdout",
     "output_type": "stream",
     "text": [
      "    time since start: 1263.649 seconds\n    recompute item factors V\n"
     ]
    },
    {
     "name": "stdout",
     "output_type": "stream",
     "text": [
      "    time since start: 1365.360 seconds\n  iteration 5\n    recompute user factors U\n"
     ]
    },
    {
     "name": "stdout",
     "output_type": "stream",
     "text": [
      "    time since start: 1533.187 seconds\n    recompute item factors V\n"
     ]
    },
    {
     "name": "stdout",
     "output_type": "stream",
     "text": [
      "    time since start: 1636.759 seconds\n  iteration 6\n    recompute user factors U\n"
     ]
    },
    {
     "name": "stdout",
     "output_type": "stream",
     "text": [
      "    time since start: 1813.012 seconds\n    recompute item factors V\n"
     ]
    },
    {
     "name": "stdout",
     "output_type": "stream",
     "text": [
      "    time since start: 1942.108 seconds\n  iteration 7\n    recompute user factors U\n"
     ]
    },
    {
     "name": "stdout",
     "output_type": "stream",
     "text": [
      "    time since start: 2103.330 seconds\n    recompute item factors V\n"
     ]
    },
    {
     "name": "stdout",
     "output_type": "stream",
     "text": [
      "    time since start: 2236.357 seconds\n  iteration 8\n    recompute user factors U\n"
     ]
    },
    {
     "name": "stdout",
     "output_type": "stream",
     "text": [
      "    time since start: 2412.011 seconds\n    recompute item factors V\n"
     ]
    },
    {
     "name": "stdout",
     "output_type": "stream",
     "text": [
      "    time since start: 2535.263 seconds\n  iteration 9\n    recompute user factors U\n"
     ]
    }
   ],
   "source": [
    "from wmf import wmf\n",
    "pkl_file = open('../user_item_matrix.pkl', 'rb')\n",
    "B = pickle.load(pkl_file)\n",
    "S = wmf.log_surplus_confidence_matrix(B, alpha=2.0, epsilon=1e-6)\n",
    "U, V = wmf.factorize(S, num_factors=50, lambda_reg=1e-5, num_iterations=10, init_std=0.01, verbose=True, dtype='float32', recompute_factors=wmf.recompute_factors_bias)"
   ]
  },
  {
   "cell_type": "code",
   "execution_count": 21,
   "metadata": {},
   "outputs": [],
   "source": [
    "pickle.dump(U, open('../user_wmf_50.pkl', 'wb'))\n",
    "pickle.dump(V, open('../item_wmf_50.pkl', 'wb'))"
   ]
  },
  {
   "cell_type": "code",
   "execution_count": 18,
   "metadata": {},
   "outputs": [],
   "source": [
    "os.chdir('code')"
   ]
  },
  {
   "cell_type": "code",
   "execution_count": null,
   "metadata": {},
   "outputs": [],
   "source": []
  }
 ],
 "metadata": {
  "kernelspec": {
   "display_name": "Python 3",
   "language": "python",
   "name": "python3"
  },
  "language_info": {
   "codemirror_mode": {
    "name": "ipython",
    "version": 3
   },
   "file_extension": ".py",
   "mimetype": "text/x-python",
   "name": "python",
   "nbconvert_exporter": "python",
   "pygments_lexer": "ipython3",
   "version": "3.7.0"
  }
 },
 "nbformat": 4,
 "nbformat_minor": 2
}
