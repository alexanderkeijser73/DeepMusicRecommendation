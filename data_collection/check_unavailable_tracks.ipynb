{
 "cells": [
  {
   "cell_type": "code",
   "execution_count": 2,
   "metadata": {
    "collapsed": false
   },
   "outputs": [
    {
     "ename": "ModuleNotFoundError",
     "evalue": "No module named 'hdf5_utils'",
     "traceback": [
      "\u001b[0;31m---------------------------------------------------------------------------\u001b[0m",
      "\u001b[0;31mModuleNotFoundError\u001b[0m                       Traceback (most recent call last)",
      "\u001b[0;32m<ipython-input-2-f9d20da30357>\u001b[0m in \u001b[0;36m<module>\u001b[0;34m()\u001b[0m\n\u001b[1;32m      2\u001b[0m \u001b[0;32mimport\u001b[0m \u001b[0mos\u001b[0m\u001b[0;34m\u001b[0m\u001b[0m\n\u001b[1;32m      3\u001b[0m \u001b[0;31m# os.chdir('code/src')\u001b[0m\u001b[0;34m\u001b[0m\u001b[0;34m\u001b[0m\u001b[0m\n\u001b[0;32m----> 4\u001b[0;31m \u001b[0;32mfrom\u001b[0m \u001b[0mdata_collection\u001b[0m\u001b[0;34m.\u001b[0m\u001b[0mget_preview_url\u001b[0m \u001b[0;32mimport\u001b[0m \u001b[0mget_trackid_from_text_search\u001b[0m\u001b[0;34m,\u001b[0m \u001b[0mget_preview_from_trackid\u001b[0m\u001b[0;34m\u001b[0m\u001b[0m\n\u001b[0m\u001b[1;32m      5\u001b[0m \u001b[0;34m\u001b[0m\u001b[0m\n\u001b[1;32m      6\u001b[0m \u001b[0mUNAV_PATH\u001b[0m \u001b[0;34m=\u001b[0m \u001b[0;34m'data/MillionSongSubset/unavailable_tracks.txt'\u001b[0m\u001b[0;34m\u001b[0m\u001b[0m\n",
      "\u001b[0;32m~/Documents/master_ai/Project Music Recommendation/DeepMusicRecommendation/data_collection/get_preview_url.py\u001b[0m in \u001b[0;36m<module>\u001b[0;34m()\u001b[0m\n\u001b[1;32m     45\u001b[0m \u001b[0;31m# pythonsrc = os.path.abspath( pythonsrc )\u001b[0m\u001b[0;34m\u001b[0m\u001b[0;34m\u001b[0m\u001b[0m\n\u001b[1;32m     46\u001b[0m \u001b[0;31m# sys.path.append( pythonsrc )\u001b[0m\u001b[0;34m\u001b[0m\u001b[0;34m\u001b[0m\u001b[0m\n\u001b[0;32m---> 47\u001b[0;31m \u001b[0;32mimport\u001b[0m \u001b[0mhdf5_utils\u001b[0m\u001b[0;34m\u001b[0m\u001b[0m\n\u001b[0m\u001b[1;32m     48\u001b[0m \u001b[0;32mimport\u001b[0m \u001b[0mhdf5_getters\u001b[0m \u001b[0;32mas\u001b[0m \u001b[0mGETTERS\u001b[0m\u001b[0;34m\u001b[0m\u001b[0m\n\u001b[1;32m     49\u001b[0m \u001b[0;34m\u001b[0m\u001b[0m\n",
      "\u001b[0;31mModuleNotFoundError\u001b[0m: No module named 'hdf5_utils'"
     ],
     "output_type": "error"
    }
   ],
   "source": [
    "\n",
    "import os\n",
    "# os.chdir('code/src')\n",
    "from data_collection.get_preview_url import get_trackid_from_text_search, get_preview_from_trackid\n",
    "\n",
    "UNAV_PATH = 'data/MillionSongSubset/unavailable_tracks.txt'\n",
    "\n",
    "UNF_PATH = '../../data/MillionSongSubset/unfound_tracks_new.txt'\n",
    "TEMP_PATH = '../../../../Desktop/unavailable_tracks.txt'\n",
    "import re\n",
    "import wget\n",
    "# !pip install wget"
   ]
  },
  {
   "cell_type": "code",
   "execution_count": 25,
   "metadata": {
    "collapsed": true
   },
   "outputs": [
    {
     "name": "stdout",
     "output_type": "stream",
     "text": [
      "0 1\n"
     ]
    },
    {
     "name": "stdout",
     "output_type": "stream",
     "text": [
      "0 51\n"
     ]
    },
    {
     "ename": "KeyboardInterrupt",
     "evalue": "",
     "traceback": [
      "\u001b[1;31m---------------------------------------------------------------------------\u001b[0m",
      "\u001b[1;31mKeyboardInterrupt\u001b[0m                         Traceback (most recent call last)",
      "\u001b[1;32m<ipython-input-25-6c9eebd54087>\u001b[0m in \u001b[0;36m<module>\u001b[1;34m()\u001b[0m\n\u001b[0;32m     12\u001b[0m         \u001b[0martist_name_re\u001b[0m \u001b[1;33m=\u001b[0m \u001b[0mre\u001b[0m\u001b[1;33m.\u001b[0m\u001b[0msub\u001b[0m\u001b[1;33m(\u001b[0m\u001b[1;34m' *[\\[\\(]*feat*.*[\\]\\)]*'\u001b[0m\u001b[1;33m,\u001b[0m \u001b[1;34m''\u001b[0m\u001b[1;33m,\u001b[0m \u001b[0martist_name_re\u001b[0m\u001b[1;33m,\u001b[0m \u001b[0mflags\u001b[0m\u001b[1;33m=\u001b[0m\u001b[0mre\u001b[0m\u001b[1;33m.\u001b[0m\u001b[0mIGNORECASE\u001b[0m\u001b[1;33m)\u001b[0m\u001b[1;33m\u001b[0m\u001b[0m\n\u001b[0;32m     13\u001b[0m         \u001b[0mtrack_name_re\u001b[0m \u001b[1;33m=\u001b[0m \u001b[0mre\u001b[0m\u001b[1;33m.\u001b[0m\u001b[0msub\u001b[0m\u001b[1;33m(\u001b[0m\u001b[1;34m' *[\\[\\(]+.*[\\]\\)]+'\u001b[0m\u001b[1;33m,\u001b[0m \u001b[1;34m''\u001b[0m\u001b[1;33m,\u001b[0m \u001b[0mtrack_name\u001b[0m\u001b[1;33m)\u001b[0m\u001b[1;33m\u001b[0m\u001b[0m\n\u001b[1;32m---> 14\u001b[1;33m         \u001b[0mresult\u001b[0m \u001b[1;33m=\u001b[0m \u001b[0mget_trackid_from_text_search\u001b[0m\u001b[1;33m(\u001b[0m\u001b[0mtrack_name_re\u001b[0m\u001b[1;33m,\u001b[0m \u001b[0martistname\u001b[0m\u001b[1;33m=\u001b[0m\u001b[0martist_name_re\u001b[0m\u001b[1;33m)\u001b[0m\u001b[1;33m\u001b[0m\u001b[0m\n\u001b[0m\u001b[0;32m     15\u001b[0m         \u001b[0mtotal_count\u001b[0m \u001b[1;33m+=\u001b[0m\u001b[1;36m1\u001b[0m\u001b[1;33m\u001b[0m\u001b[0m\n\u001b[0;32m     16\u001b[0m         \u001b[0mpreview_url\u001b[0m \u001b[1;33m=\u001b[0m \u001b[1;32mNone\u001b[0m\u001b[1;33m\u001b[0m\u001b[0m\n",
      "\u001b[1;32m~\\Documents\\project_music_recommendation\\code\\src\\get_preview_url.py\u001b[0m in \u001b[0;36mget_trackid_from_text_search\u001b[1;34m(title, artistname)\u001b[0m\n\u001b[0;32m    119\u001b[0m     \u001b[0mreq\u001b[0m\u001b[1;33m.\u001b[0m\u001b[0madd_header\u001b[0m\u001b[1;33m(\u001b[0m\u001b[1;34m\"Content-Type\"\u001b[0m\u001b[1;33m,\u001b[0m \u001b[1;34m\"application/json\"\u001b[0m\u001b[1;33m)\u001b[0m\u001b[1;33m\u001b[0m\u001b[0m\n\u001b[0;32m    120\u001b[0m     \u001b[0mreq\u001b[0m\u001b[1;33m.\u001b[0m\u001b[0madd_header\u001b[0m\u001b[1;33m(\u001b[0m\u001b[1;34m\"Authorization\"\u001b[0m\u001b[1;33m,\u001b[0m \u001b[1;34m\"Bearer \"\u001b[0m \u001b[1;33m+\u001b[0m \u001b[0mDIGITAL7_API_KEY\u001b[0m\u001b[1;33m)\u001b[0m\u001b[1;33m\u001b[0m\u001b[0m\n\u001b[1;32m--> 121\u001b[1;33m     \u001b[0mstream\u001b[0m \u001b[1;33m=\u001b[0m \u001b[0murllib\u001b[0m\u001b[1;33m.\u001b[0m\u001b[0mrequest\u001b[0m\u001b[1;33m.\u001b[0m\u001b[0murlopen\u001b[0m\u001b[1;33m(\u001b[0m\u001b[0mreq\u001b[0m\u001b[1;33m)\u001b[0m\u001b[1;33m\u001b[0m\u001b[0m\n\u001b[0m\u001b[0;32m    122\u001b[0m     \u001b[0mstring\u001b[0m \u001b[1;33m=\u001b[0m \u001b[0mstream\u001b[0m\u001b[1;33m.\u001b[0m\u001b[0mread\u001b[0m\u001b[1;33m(\u001b[0m\u001b[1;33m)\u001b[0m\u001b[1;33m.\u001b[0m\u001b[0mdecode\u001b[0m\u001b[1;33m(\u001b[0m\u001b[1;34m'utf-8'\u001b[0m\u001b[1;33m)\u001b[0m\u001b[1;33m\u001b[0m\u001b[0m\n\u001b[0;32m    123\u001b[0m     \u001b[1;31m# with open('./string.txt', 'w+') as f:\u001b[0m\u001b[1;33m\u001b[0m\u001b[1;33m\u001b[0m\u001b[0m\n",
      "\u001b[1;32m~\\Anaconda3\\lib\\urllib\\request.py\u001b[0m in \u001b[0;36murlopen\u001b[1;34m(url, data, timeout, cafile, capath, cadefault, context)\u001b[0m\n\u001b[0;32m    221\u001b[0m     \u001b[1;32melse\u001b[0m\u001b[1;33m:\u001b[0m\u001b[1;33m\u001b[0m\u001b[0m\n\u001b[0;32m    222\u001b[0m         \u001b[0mopener\u001b[0m \u001b[1;33m=\u001b[0m \u001b[0m_opener\u001b[0m\u001b[1;33m\u001b[0m\u001b[0m\n\u001b[1;32m--> 223\u001b[1;33m     \u001b[1;32mreturn\u001b[0m \u001b[0mopener\u001b[0m\u001b[1;33m.\u001b[0m\u001b[0mopen\u001b[0m\u001b[1;33m(\u001b[0m\u001b[0murl\u001b[0m\u001b[1;33m,\u001b[0m \u001b[0mdata\u001b[0m\u001b[1;33m,\u001b[0m \u001b[0mtimeout\u001b[0m\u001b[1;33m)\u001b[0m\u001b[1;33m\u001b[0m\u001b[0m\n\u001b[0m\u001b[0;32m    224\u001b[0m \u001b[1;33m\u001b[0m\u001b[0m\n\u001b[0;32m    225\u001b[0m \u001b[1;32mdef\u001b[0m \u001b[0minstall_opener\u001b[0m\u001b[1;33m(\u001b[0m\u001b[0mopener\u001b[0m\u001b[1;33m)\u001b[0m\u001b[1;33m:\u001b[0m\u001b[1;33m\u001b[0m\u001b[0m\n",
      "\u001b[1;32m~\\Anaconda3\\lib\\urllib\\request.py\u001b[0m in \u001b[0;36mopen\u001b[1;34m(self, fullurl, data, timeout)\u001b[0m\n\u001b[0;32m    524\u001b[0m             \u001b[0mreq\u001b[0m \u001b[1;33m=\u001b[0m \u001b[0mmeth\u001b[0m\u001b[1;33m(\u001b[0m\u001b[0mreq\u001b[0m\u001b[1;33m)\u001b[0m\u001b[1;33m\u001b[0m\u001b[0m\n\u001b[0;32m    525\u001b[0m \u001b[1;33m\u001b[0m\u001b[0m\n\u001b[1;32m--> 526\u001b[1;33m         \u001b[0mresponse\u001b[0m \u001b[1;33m=\u001b[0m \u001b[0mself\u001b[0m\u001b[1;33m.\u001b[0m\u001b[0m_open\u001b[0m\u001b[1;33m(\u001b[0m\u001b[0mreq\u001b[0m\u001b[1;33m,\u001b[0m \u001b[0mdata\u001b[0m\u001b[1;33m)\u001b[0m\u001b[1;33m\u001b[0m\u001b[0m\n\u001b[0m\u001b[0;32m    527\u001b[0m \u001b[1;33m\u001b[0m\u001b[0m\n\u001b[0;32m    528\u001b[0m         \u001b[1;31m# post-process response\u001b[0m\u001b[1;33m\u001b[0m\u001b[1;33m\u001b[0m\u001b[0m\n",
      "\u001b[1;32m~\\Anaconda3\\lib\\urllib\\request.py\u001b[0m in \u001b[0;36m_open\u001b[1;34m(self, req, data)\u001b[0m\n\u001b[0;32m    542\u001b[0m         \u001b[0mprotocol\u001b[0m \u001b[1;33m=\u001b[0m \u001b[0mreq\u001b[0m\u001b[1;33m.\u001b[0m\u001b[0mtype\u001b[0m\u001b[1;33m\u001b[0m\u001b[0m\n\u001b[0;32m    543\u001b[0m         result = self._call_chain(self.handle_open, protocol, protocol +\n\u001b[1;32m--> 544\u001b[1;33m                                   '_open', req)\n\u001b[0m\u001b[0;32m    545\u001b[0m         \u001b[1;32mif\u001b[0m \u001b[0mresult\u001b[0m\u001b[1;33m:\u001b[0m\u001b[1;33m\u001b[0m\u001b[0m\n\u001b[0;32m    546\u001b[0m             \u001b[1;32mreturn\u001b[0m \u001b[0mresult\u001b[0m\u001b[1;33m\u001b[0m\u001b[0m\n",
      "\u001b[1;32m~\\Anaconda3\\lib\\urllib\\request.py\u001b[0m in \u001b[0;36m_call_chain\u001b[1;34m(self, chain, kind, meth_name, *args)\u001b[0m\n\u001b[0;32m    502\u001b[0m         \u001b[1;32mfor\u001b[0m \u001b[0mhandler\u001b[0m \u001b[1;32min\u001b[0m \u001b[0mhandlers\u001b[0m\u001b[1;33m:\u001b[0m\u001b[1;33m\u001b[0m\u001b[0m\n\u001b[0;32m    503\u001b[0m             \u001b[0mfunc\u001b[0m \u001b[1;33m=\u001b[0m \u001b[0mgetattr\u001b[0m\u001b[1;33m(\u001b[0m\u001b[0mhandler\u001b[0m\u001b[1;33m,\u001b[0m \u001b[0mmeth_name\u001b[0m\u001b[1;33m)\u001b[0m\u001b[1;33m\u001b[0m\u001b[0m\n\u001b[1;32m--> 504\u001b[1;33m             \u001b[0mresult\u001b[0m \u001b[1;33m=\u001b[0m \u001b[0mfunc\u001b[0m\u001b[1;33m(\u001b[0m\u001b[1;33m*\u001b[0m\u001b[0margs\u001b[0m\u001b[1;33m)\u001b[0m\u001b[1;33m\u001b[0m\u001b[0m\n\u001b[0m\u001b[0;32m    505\u001b[0m             \u001b[1;32mif\u001b[0m \u001b[0mresult\u001b[0m \u001b[1;32mis\u001b[0m \u001b[1;32mnot\u001b[0m \u001b[1;32mNone\u001b[0m\u001b[1;33m:\u001b[0m\u001b[1;33m\u001b[0m\u001b[0m\n\u001b[0;32m    506\u001b[0m                 \u001b[1;32mreturn\u001b[0m \u001b[0mresult\u001b[0m\u001b[1;33m\u001b[0m\u001b[0m\n",
      "\u001b[1;32m~\\Anaconda3\\lib\\urllib\\request.py\u001b[0m in \u001b[0;36mhttps_open\u001b[1;34m(self, req)\u001b[0m\n\u001b[0;32m   1359\u001b[0m         \u001b[1;32mdef\u001b[0m \u001b[0mhttps_open\u001b[0m\u001b[1;33m(\u001b[0m\u001b[0mself\u001b[0m\u001b[1;33m,\u001b[0m \u001b[0mreq\u001b[0m\u001b[1;33m)\u001b[0m\u001b[1;33m:\u001b[0m\u001b[1;33m\u001b[0m\u001b[0m\n\u001b[0;32m   1360\u001b[0m             return self.do_open(http.client.HTTPSConnection, req,\n\u001b[1;32m-> 1361\u001b[1;33m                 context=self._context, check_hostname=self._check_hostname)\n\u001b[0m\u001b[0;32m   1362\u001b[0m \u001b[1;33m\u001b[0m\u001b[0m\n\u001b[0;32m   1363\u001b[0m         \u001b[0mhttps_request\u001b[0m \u001b[1;33m=\u001b[0m \u001b[0mAbstractHTTPHandler\u001b[0m\u001b[1;33m.\u001b[0m\u001b[0mdo_request_\u001b[0m\u001b[1;33m\u001b[0m\u001b[0m\n",
      "\u001b[1;32m~\\Anaconda3\\lib\\urllib\\request.py\u001b[0m in \u001b[0;36mdo_open\u001b[1;34m(self, http_class, req, **http_conn_args)\u001b[0m\n\u001b[0;32m   1316\u001b[0m             \u001b[1;32mtry\u001b[0m\u001b[1;33m:\u001b[0m\u001b[1;33m\u001b[0m\u001b[0m\n\u001b[0;32m   1317\u001b[0m                 h.request(req.get_method(), req.selector, req.data, headers,\n\u001b[1;32m-> 1318\u001b[1;33m                           encode_chunked=req.has_header('Transfer-encoding'))\n\u001b[0m\u001b[0;32m   1319\u001b[0m             \u001b[1;32mexcept\u001b[0m \u001b[0mOSError\u001b[0m \u001b[1;32mas\u001b[0m \u001b[0merr\u001b[0m\u001b[1;33m:\u001b[0m \u001b[1;31m# timeout error\u001b[0m\u001b[1;33m\u001b[0m\u001b[0m\n\u001b[0;32m   1320\u001b[0m                 \u001b[1;32mraise\u001b[0m \u001b[0mURLError\u001b[0m\u001b[1;33m(\u001b[0m\u001b[0merr\u001b[0m\u001b[1;33m)\u001b[0m\u001b[1;33m\u001b[0m\u001b[0m\n",
      "\u001b[1;32m~\\Anaconda3\\lib\\http\\client.py\u001b[0m in \u001b[0;36mrequest\u001b[1;34m(self, method, url, body, headers, encode_chunked)\u001b[0m\n\u001b[0;32m   1237\u001b[0m                 encode_chunked=False):\n\u001b[0;32m   1238\u001b[0m         \u001b[1;34m\"\"\"Send a complete request to the server.\"\"\"\u001b[0m\u001b[1;33m\u001b[0m\u001b[0m\n\u001b[1;32m-> 1239\u001b[1;33m         \u001b[0mself\u001b[0m\u001b[1;33m.\u001b[0m\u001b[0m_send_request\u001b[0m\u001b[1;33m(\u001b[0m\u001b[0mmethod\u001b[0m\u001b[1;33m,\u001b[0m \u001b[0murl\u001b[0m\u001b[1;33m,\u001b[0m \u001b[0mbody\u001b[0m\u001b[1;33m,\u001b[0m \u001b[0mheaders\u001b[0m\u001b[1;33m,\u001b[0m \u001b[0mencode_chunked\u001b[0m\u001b[1;33m)\u001b[0m\u001b[1;33m\u001b[0m\u001b[0m\n\u001b[0m\u001b[0;32m   1240\u001b[0m \u001b[1;33m\u001b[0m\u001b[0m\n\u001b[0;32m   1241\u001b[0m     \u001b[1;32mdef\u001b[0m \u001b[0m_send_request\u001b[0m\u001b[1;33m(\u001b[0m\u001b[0mself\u001b[0m\u001b[1;33m,\u001b[0m \u001b[0mmethod\u001b[0m\u001b[1;33m,\u001b[0m \u001b[0murl\u001b[0m\u001b[1;33m,\u001b[0m \u001b[0mbody\u001b[0m\u001b[1;33m,\u001b[0m \u001b[0mheaders\u001b[0m\u001b[1;33m,\u001b[0m \u001b[0mencode_chunked\u001b[0m\u001b[1;33m)\u001b[0m\u001b[1;33m:\u001b[0m\u001b[1;33m\u001b[0m\u001b[0m\n",
      "\u001b[1;32m~\\Anaconda3\\lib\\http\\client.py\u001b[0m in \u001b[0;36m_send_request\u001b[1;34m(self, method, url, body, headers, encode_chunked)\u001b[0m\n\u001b[0;32m   1283\u001b[0m             \u001b[1;31m# default charset of iso-8859-1.\u001b[0m\u001b[1;33m\u001b[0m\u001b[1;33m\u001b[0m\u001b[0m\n\u001b[0;32m   1284\u001b[0m             \u001b[0mbody\u001b[0m \u001b[1;33m=\u001b[0m \u001b[0m_encode\u001b[0m\u001b[1;33m(\u001b[0m\u001b[0mbody\u001b[0m\u001b[1;33m,\u001b[0m \u001b[1;34m'body'\u001b[0m\u001b[1;33m)\u001b[0m\u001b[1;33m\u001b[0m\u001b[0m\n\u001b[1;32m-> 1285\u001b[1;33m         \u001b[0mself\u001b[0m\u001b[1;33m.\u001b[0m\u001b[0mendheaders\u001b[0m\u001b[1;33m(\u001b[0m\u001b[0mbody\u001b[0m\u001b[1;33m,\u001b[0m \u001b[0mencode_chunked\u001b[0m\u001b[1;33m=\u001b[0m\u001b[0mencode_chunked\u001b[0m\u001b[1;33m)\u001b[0m\u001b[1;33m\u001b[0m\u001b[0m\n\u001b[0m\u001b[0;32m   1286\u001b[0m \u001b[1;33m\u001b[0m\u001b[0m\n\u001b[0;32m   1287\u001b[0m     \u001b[1;32mdef\u001b[0m \u001b[0mgetresponse\u001b[0m\u001b[1;33m(\u001b[0m\u001b[0mself\u001b[0m\u001b[1;33m)\u001b[0m\u001b[1;33m:\u001b[0m\u001b[1;33m\u001b[0m\u001b[0m\n",
      "\u001b[1;32m~\\Anaconda3\\lib\\http\\client.py\u001b[0m in \u001b[0;36mendheaders\u001b[1;34m(self, message_body, encode_chunked)\u001b[0m\n\u001b[0;32m   1232\u001b[0m         \u001b[1;32melse\u001b[0m\u001b[1;33m:\u001b[0m\u001b[1;33m\u001b[0m\u001b[0m\n\u001b[0;32m   1233\u001b[0m             \u001b[1;32mraise\u001b[0m \u001b[0mCannotSendHeader\u001b[0m\u001b[1;33m(\u001b[0m\u001b[1;33m)\u001b[0m\u001b[1;33m\u001b[0m\u001b[0m\n\u001b[1;32m-> 1234\u001b[1;33m         \u001b[0mself\u001b[0m\u001b[1;33m.\u001b[0m\u001b[0m_send_output\u001b[0m\u001b[1;33m(\u001b[0m\u001b[0mmessage_body\u001b[0m\u001b[1;33m,\u001b[0m \u001b[0mencode_chunked\u001b[0m\u001b[1;33m=\u001b[0m\u001b[0mencode_chunked\u001b[0m\u001b[1;33m)\u001b[0m\u001b[1;33m\u001b[0m\u001b[0m\n\u001b[0m\u001b[0;32m   1235\u001b[0m \u001b[1;33m\u001b[0m\u001b[0m\n\u001b[0;32m   1236\u001b[0m     def request(self, method, url, body=None, headers={}, *,\n",
      "\u001b[1;32m~\\Anaconda3\\lib\\http\\client.py\u001b[0m in \u001b[0;36m_send_output\u001b[1;34m(self, message_body, encode_chunked)\u001b[0m\n\u001b[0;32m   1024\u001b[0m         \u001b[0mmsg\u001b[0m \u001b[1;33m=\u001b[0m \u001b[1;34mb\"\\r\\n\"\u001b[0m\u001b[1;33m.\u001b[0m\u001b[0mjoin\u001b[0m\u001b[1;33m(\u001b[0m\u001b[0mself\u001b[0m\u001b[1;33m.\u001b[0m\u001b[0m_buffer\u001b[0m\u001b[1;33m)\u001b[0m\u001b[1;33m\u001b[0m\u001b[0m\n\u001b[0;32m   1025\u001b[0m         \u001b[1;32mdel\u001b[0m \u001b[0mself\u001b[0m\u001b[1;33m.\u001b[0m\u001b[0m_buffer\u001b[0m\u001b[1;33m[\u001b[0m\u001b[1;33m:\u001b[0m\u001b[1;33m]\u001b[0m\u001b[1;33m\u001b[0m\u001b[0m\n\u001b[1;32m-> 1026\u001b[1;33m         \u001b[0mself\u001b[0m\u001b[1;33m.\u001b[0m\u001b[0msend\u001b[0m\u001b[1;33m(\u001b[0m\u001b[0mmsg\u001b[0m\u001b[1;33m)\u001b[0m\u001b[1;33m\u001b[0m\u001b[0m\n\u001b[0m\u001b[0;32m   1027\u001b[0m \u001b[1;33m\u001b[0m\u001b[0m\n\u001b[0;32m   1028\u001b[0m         \u001b[1;32mif\u001b[0m \u001b[0mmessage_body\u001b[0m \u001b[1;32mis\u001b[0m \u001b[1;32mnot\u001b[0m \u001b[1;32mNone\u001b[0m\u001b[1;33m:\u001b[0m\u001b[1;33m\u001b[0m\u001b[0m\n",
      "\u001b[1;32m~\\Anaconda3\\lib\\http\\client.py\u001b[0m in \u001b[0;36msend\u001b[1;34m(self, data)\u001b[0m\n\u001b[0;32m    962\u001b[0m         \u001b[1;32mif\u001b[0m \u001b[0mself\u001b[0m\u001b[1;33m.\u001b[0m\u001b[0msock\u001b[0m \u001b[1;32mis\u001b[0m \u001b[1;32mNone\u001b[0m\u001b[1;33m:\u001b[0m\u001b[1;33m\u001b[0m\u001b[0m\n\u001b[0;32m    963\u001b[0m             \u001b[1;32mif\u001b[0m \u001b[0mself\u001b[0m\u001b[1;33m.\u001b[0m\u001b[0mauto_open\u001b[0m\u001b[1;33m:\u001b[0m\u001b[1;33m\u001b[0m\u001b[0m\n\u001b[1;32m--> 964\u001b[1;33m                 \u001b[0mself\u001b[0m\u001b[1;33m.\u001b[0m\u001b[0mconnect\u001b[0m\u001b[1;33m(\u001b[0m\u001b[1;33m)\u001b[0m\u001b[1;33m\u001b[0m\u001b[0m\n\u001b[0m\u001b[0;32m    965\u001b[0m             \u001b[1;32melse\u001b[0m\u001b[1;33m:\u001b[0m\u001b[1;33m\u001b[0m\u001b[0m\n\u001b[0;32m    966\u001b[0m                 \u001b[1;32mraise\u001b[0m \u001b[0mNotConnected\u001b[0m\u001b[1;33m(\u001b[0m\u001b[1;33m)\u001b[0m\u001b[1;33m\u001b[0m\u001b[0m\n",
      "\u001b[1;32m~\\Anaconda3\\lib\\http\\client.py\u001b[0m in \u001b[0;36mconnect\u001b[1;34m(self)\u001b[0m\n\u001b[0;32m   1390\u001b[0m             \u001b[1;34m\"Connect to a host on a given (SSL) port.\"\u001b[0m\u001b[1;33m\u001b[0m\u001b[0m\n\u001b[0;32m   1391\u001b[0m \u001b[1;33m\u001b[0m\u001b[0m\n\u001b[1;32m-> 1392\u001b[1;33m             \u001b[0msuper\u001b[0m\u001b[1;33m(\u001b[0m\u001b[1;33m)\u001b[0m\u001b[1;33m.\u001b[0m\u001b[0mconnect\u001b[0m\u001b[1;33m(\u001b[0m\u001b[1;33m)\u001b[0m\u001b[1;33m\u001b[0m\u001b[0m\n\u001b[0m\u001b[0;32m   1393\u001b[0m \u001b[1;33m\u001b[0m\u001b[0m\n\u001b[0;32m   1394\u001b[0m             \u001b[1;32mif\u001b[0m \u001b[0mself\u001b[0m\u001b[1;33m.\u001b[0m\u001b[0m_tunnel_host\u001b[0m\u001b[1;33m:\u001b[0m\u001b[1;33m\u001b[0m\u001b[0m\n",
      "\u001b[1;32m~\\Anaconda3\\lib\\http\\client.py\u001b[0m in \u001b[0;36mconnect\u001b[1;34m(self)\u001b[0m\n\u001b[0;32m    934\u001b[0m         \u001b[1;34m\"\"\"Connect to the host and port specified in __init__.\"\"\"\u001b[0m\u001b[1;33m\u001b[0m\u001b[0m\n\u001b[0;32m    935\u001b[0m         self.sock = self._create_connection(\n\u001b[1;32m--> 936\u001b[1;33m             (self.host,self.port), self.timeout, self.source_address)\n\u001b[0m\u001b[0;32m    937\u001b[0m         \u001b[0mself\u001b[0m\u001b[1;33m.\u001b[0m\u001b[0msock\u001b[0m\u001b[1;33m.\u001b[0m\u001b[0msetsockopt\u001b[0m\u001b[1;33m(\u001b[0m\u001b[0msocket\u001b[0m\u001b[1;33m.\u001b[0m\u001b[0mIPPROTO_TCP\u001b[0m\u001b[1;33m,\u001b[0m \u001b[0msocket\u001b[0m\u001b[1;33m.\u001b[0m\u001b[0mTCP_NODELAY\u001b[0m\u001b[1;33m,\u001b[0m \u001b[1;36m1\u001b[0m\u001b[1;33m)\u001b[0m\u001b[1;33m\u001b[0m\u001b[0m\n\u001b[0;32m    938\u001b[0m \u001b[1;33m\u001b[0m\u001b[0m\n",
      "\u001b[1;32m~\\Anaconda3\\lib\\socket.py\u001b[0m in \u001b[0;36mcreate_connection\u001b[1;34m(address, timeout, source_address)\u001b[0m\n\u001b[0;32m    702\u001b[0m     \u001b[0mhost\u001b[0m\u001b[1;33m,\u001b[0m \u001b[0mport\u001b[0m \u001b[1;33m=\u001b[0m \u001b[0maddress\u001b[0m\u001b[1;33m\u001b[0m\u001b[0m\n\u001b[0;32m    703\u001b[0m     \u001b[0merr\u001b[0m \u001b[1;33m=\u001b[0m \u001b[1;32mNone\u001b[0m\u001b[1;33m\u001b[0m\u001b[0m\n\u001b[1;32m--> 704\u001b[1;33m     \u001b[1;32mfor\u001b[0m \u001b[0mres\u001b[0m \u001b[1;32min\u001b[0m \u001b[0mgetaddrinfo\u001b[0m\u001b[1;33m(\u001b[0m\u001b[0mhost\u001b[0m\u001b[1;33m,\u001b[0m \u001b[0mport\u001b[0m\u001b[1;33m,\u001b[0m \u001b[1;36m0\u001b[0m\u001b[1;33m,\u001b[0m \u001b[0mSOCK_STREAM\u001b[0m\u001b[1;33m)\u001b[0m\u001b[1;33m:\u001b[0m\u001b[1;33m\u001b[0m\u001b[0m\n\u001b[0m\u001b[0;32m    705\u001b[0m         \u001b[0maf\u001b[0m\u001b[1;33m,\u001b[0m \u001b[0msocktype\u001b[0m\u001b[1;33m,\u001b[0m \u001b[0mproto\u001b[0m\u001b[1;33m,\u001b[0m \u001b[0mcanonname\u001b[0m\u001b[1;33m,\u001b[0m \u001b[0msa\u001b[0m \u001b[1;33m=\u001b[0m \u001b[0mres\u001b[0m\u001b[1;33m\u001b[0m\u001b[0m\n\u001b[0;32m    706\u001b[0m         \u001b[0msock\u001b[0m \u001b[1;33m=\u001b[0m \u001b[1;32mNone\u001b[0m\u001b[1;33m\u001b[0m\u001b[0m\n",
      "\u001b[1;32m~\\Anaconda3\\lib\\socket.py\u001b[0m in \u001b[0;36mgetaddrinfo\u001b[1;34m(host, port, family, type, proto, flags)\u001b[0m\n\u001b[0;32m    743\u001b[0m     \u001b[1;31m# and socket type values to enum constants.\u001b[0m\u001b[1;33m\u001b[0m\u001b[1;33m\u001b[0m\u001b[0m\n\u001b[0;32m    744\u001b[0m     \u001b[0maddrlist\u001b[0m \u001b[1;33m=\u001b[0m \u001b[1;33m[\u001b[0m\u001b[1;33m]\u001b[0m\u001b[1;33m\u001b[0m\u001b[0m\n\u001b[1;32m--> 745\u001b[1;33m     \u001b[1;32mfor\u001b[0m \u001b[0mres\u001b[0m \u001b[1;32min\u001b[0m \u001b[0m_socket\u001b[0m\u001b[1;33m.\u001b[0m\u001b[0mgetaddrinfo\u001b[0m\u001b[1;33m(\u001b[0m\u001b[0mhost\u001b[0m\u001b[1;33m,\u001b[0m \u001b[0mport\u001b[0m\u001b[1;33m,\u001b[0m \u001b[0mfamily\u001b[0m\u001b[1;33m,\u001b[0m \u001b[0mtype\u001b[0m\u001b[1;33m,\u001b[0m \u001b[0mproto\u001b[0m\u001b[1;33m,\u001b[0m \u001b[0mflags\u001b[0m\u001b[1;33m)\u001b[0m\u001b[1;33m:\u001b[0m\u001b[1;33m\u001b[0m\u001b[0m\n\u001b[0m\u001b[0;32m    746\u001b[0m         \u001b[0maf\u001b[0m\u001b[1;33m,\u001b[0m \u001b[0msocktype\u001b[0m\u001b[1;33m,\u001b[0m \u001b[0mproto\u001b[0m\u001b[1;33m,\u001b[0m \u001b[0mcanonname\u001b[0m\u001b[1;33m,\u001b[0m \u001b[0msa\u001b[0m \u001b[1;33m=\u001b[0m \u001b[0mres\u001b[0m\u001b[1;33m\u001b[0m\u001b[0m\n\u001b[0;32m    747\u001b[0m         addrlist.append((_intenum_converter(af, AddressFamily),\n",
      "\u001b[1;31mKeyboardInterrupt\u001b[0m: "
     ],
     "output_type": "error"
    }
   ],
   "source": [
    "found_count = 0\n",
    "total_count = 0\n",
    "\n",
    "OUTDIR = '../../data/MillionSongSubset/audio'\n",
    "\n",
    "with open(UNF_PATH, 'r') as f:\n",
    "    for i, line in enumerate(f):\n",
    "        if line[0] != 'T': continue\n",
    "        id, artist_name, track_name = line.split('\\t')[0], line.split('\\t')[1], line.split('\\t')[2]\n",
    "        track_name = re.sub('_', '', track_name)\n",
    "        artist_name_re = re.sub(' *([;_/&,*]|(feat))+.*', '', artist_name)\n",
    "        artist_name_re = re.sub(' *[\\[\\(]*feat*.*[\\]\\)]*', '', artist_name_re, flags=re.IGNORECASE)\n",
    "        track_name_re = re.sub(' *[\\[\\(]+.*[\\]\\)]+', '', track_name)\n",
    "        result = get_trackid_from_text_search(track_name_re, artistname=artist_name_re)\n",
    "        total_count +=1\n",
    "        preview_url = None\n",
    "        if result is not None:\n",
    "            name, preview_url, track_id = result\n",
    "            if preview_url is None:\n",
    "                preview_url = get_preview_from_trackid(track_id)\n",
    "\n",
    "            \n",
    "        if preview_url is None:\n",
    "            with open('../../data/MillionSongSubset/unfound_tracks_new.txt', 'a+') as f:\n",
    "                f.write('\\t'.join([id, artist_name, track_name, artist_name_re, track_name_re]))\n",
    "        else:\n",
    "            out_path = os.path.join(OUTDIR, id) + '.mp3'\n",
    "            if not os.path.exists(out_path):\n",
    "                print('found new track: ', artist_name, track_name)\n",
    "                wget.download(preview_url, out=out_path)\n",
    "                found_count +=1\n",
    "            \n",
    "        if i % 100 == 0:\n",
    "            print(found_count, total_count)\n",
    "\n"
   ]
  },
  {
   "cell_type": "code",
   "execution_count": 7,
   "metadata": {},
   "outputs": [],
   "source": [
    "from collections import Counter\n",
    "counter = Counter(id_list)\n",
    "counter = {k: v for k, v in counter.items() if v >1}"
   ]
  },
  {
   "cell_type": "code",
   "execution_count": 8,
   "metadata": {},
   "outputs": [
    {
     "data": {
      "text/plain": [
       "{'TRAABDL12903CAABBA': 9,\n 'TRAADEV128F9348C0A': 3,\n 'TRAADIV12903CB15C1': 3,\n 'TRAADVH128EF34DE7A': 3,\n 'TRAADYB128F92D7E73': 3,\n 'TRAAEAM128F934B199': 3,\n 'TRAAFON128F42926FB': 3,\n 'TRAAFSM128F425A2C5': 3,\n 'TRAAGNL128F4299BF1': 3,\n 'TRAAHRF128F92FE234': 3,\n 'TRAAIRG128F93265E8': 3,\n 'TRAAIXN128F428027A': 3,\n 'TRAAJBU12903CE2831': 3,\n 'TRAAJEK12903CE351A': 3,\n 'TRAAJJG128F4284B27': 3,\n 'TRAAJVJ128F42570AD': 3,\n 'TRAAKAV128F931BE25': 3,\n 'TRAAMKI128F428537A': 3,\n 'TRAAMKL128F9347D8A': 3,\n 'TRAANKK128F42531BC': 3,\n 'TRAANMF12903CEAFEF': 3,\n 'TRAANTD128F9323B23': 3,\n 'TRAAOEH128F426A82F': 3,\n 'TRAAOPW128F428AE31': 3,\n 'TRAAORY128F934984F': 3,\n 'TRAAQUF12903CDF4A4': 3,\n 'TRAAQYN128F92ED77E': 3,\n 'TRAARSF12903CD1B12': 3,\n 'TRAATPA128F146753C': 3,\n 'TRAAUMZ12903CA97DC': 3,\n 'TRAAVAH128F4284D7C': 3,\n 'TRAAVJL128F14ACADD': 3,\n 'TRAAVNN128F428A85D': 3,\n 'TRAAWQD12903CAA968': 3,\n 'TRAAWUM128F426009A': 3,\n 'TRAAXMX128F9307699': 3,\n 'TRAAXPA128F92FC706': 3,\n 'TRAAYPG128F933C941': 3,\n 'TRAAZJU12903C980B6': 3,\n 'TRAAZKV12903CDDFE0': 3,\n 'TRAAZLK128F93586D6': 3,\n 'TRAAZQF128F4285BC3': 3,\n 'TRAAZYI12903CB2EE4': 3,\n 'TRABAXR128F426515F': 3,\n 'TRABBOR128F4286200': 3,\n 'TRABCPZ128F4275C32': 3,\n 'TRABDDP128F92FA843': 3,\n 'TRABECY128F93317AA': 3,\n 'TRABEGU12903CACFD1': 3,\n 'TRABFPX128F9331F21': 3,\n 'TRABFXR128F9350B92': 3,\n 'TRABHNS128F93125B5': 3,\n 'TRABHWW128F424E9D2': 3,\n 'TRABISL12903D08B0D': 3,\n 'TRABIUA128F9349CDF': 3,\n 'TRABIZN128F9317EDF': 2,\n 'TRABJIA128F14B189F': 3,\n 'TRABJQN128F9361E4C': 3,\n 'TRABJWA128F9309C09': 3,\n 'TRABKAS128F42AB822': 3,\n 'TRABKMS128F92EAFAA': 3,\n 'TRABLMN128E0792687': 3,\n 'TRABLQE128F92E5E75': 3,\n 'TRABLTX128F42813FD': 3,\n 'TRABLVP128F426EE4A': 3,\n 'TRABMKR128F92CC02B': 3,\n 'TRABMRL12903CD0B4A': 3,\n 'TRABMXM128F930C6D2': 3,\n 'TRABNLE128EF34B85D': 3,\n 'TRABOPD128F422E200': 3,\n 'TRABPAU128F429C1BD': 3,\n 'TRABPGO128F931B50C': 3,\n 'TRABPYJ128F92DA476': 3,\n 'TRABQBH128F92FAF40': 3,\n 'TRABROW128F9338E5B': 3,\n 'TRABRRN12903CF084B': 3,\n 'TRABSNL128F92E2872': 3,\n 'TRABTTC12903CC34E8': 3,\n 'TRABUGO128F424E920': 3,\n 'TRABUTS128F424416F': 3,\n 'TRABUZC128E078603F': 3,\n 'TRABVQT128F422AF10': 3,\n 'TRABWUW128F93214D6': 3,\n 'TRABYEY128F933773A': 3,\n 'TRABYYZ128F932EB6C': 3,\n 'TRABYZL128F92E639C': 3,\n 'TRACADA128F92EFB0E': 3,\n 'TRACAFR12903CD6701': 3,\n 'TRACALZ12903CDCFBB': 3,\n 'TRACAMB12903CE12F4': 3,\n 'TRACAMK128F4265F0D': 3,\n 'TRACAMS128F9307856': 3,\n 'TRACAPS128F92F014C': 3,\n 'TRACARQ128F933B5CD': 3,\n 'TRACASH128F931C969': 3,\n 'TRACBJT128F93135DF': 3,\n 'TRACBWP128C7196948': 3,\n 'TRACCJA128F149A144': 3,\n 'TRACCMO12903CA4168': 3,\n 'TRACCXJ128F428F0CF': 3,\n 'TRACFJE128F934C8D5': 3,\n 'TRACFVO128F9300F29': 3,\n 'TRACGDB128F93509E0': 3,\n 'TRACHAL128F427DD25': 3,\n 'TRACHKX128F934B07A': 3,\n 'TRACHSH12903CEBC2C': 3,\n 'TRACHTO12903CBE58B': 3,\n 'TRACHYA128F931BF87': 3,\n 'TRACIIS128F425DF68': 3,\n 'TRACIOB128F4296D0F': 3,\n 'TRACKVZ128F4285793': 3,\n 'TRACKXA12903CB6D40': 3,\n 'TRACLUJ128F422DDA1': 3,\n 'TRACMCM12903CB60DA': 3,\n 'TRACMHS128F148F509': 3,\n 'TRACMVZ128F429AE0E': 3,\n 'TRACMYR128F425EE37': 3,\n 'TRACNZU12903CACFCF': 3,\n 'TRACOBC128F4266853': 3,\n 'TRACOGY128F92FE95C': 3,\n 'TRACOSS12903CE4724': 3,\n 'TRACOTC128F1455F32': 3,\n 'TRACPIC128E0792500': 3,\n 'TRACPRG12903CB8E83': 3,\n 'TRACQKE12903D00CC7': 3,\n 'TRACQML128F42AE513': 3,\n 'TRACRON12903CB59E6': 3,\n 'TRACSND128F426983F': 3,\n 'TRACSXC12903CF9525': 3,\n 'TRACTSM128F4221007': 3,\n 'TRACTWH12903CE2E46': 3,\n 'TRACUDB128F932030C': 3,\n 'TRACUIZ128F92D984B': 3,\n 'TRACULH128F42287AB': 3,\n 'TRACUWW128F4248CAA': 3,\n 'TRACVSS128E07846A7': 3,\n 'TRACXDB12903CA4432': 3,\n 'TRACXOY128F934CEDC': 3,\n 'TRACYCJ128F9309246': 3,\n 'TRACYTM128F933A555': 3,\n 'TRACZDR128F14599BC': 3,\n 'TRADAOM128F4263A78': 3,\n 'TRADAXI128F9315DD0': 3,\n 'TRADBSN128F426B297': 3,\n 'TRADCBA128F92E7161': 3,\n 'TRADCUZ128F92E6775': 3,\n 'TRADDWO128F9305E06': 3,\n 'TRADDXJ128F4252062': 3,\n 'TRADDXS12903CEDB38': 3,\n 'TRADEAI12903C9B81C': 3,\n 'TRADERP128F42908E4': 3,\n 'TRADFAQ128F428AC13': 3,\n 'TRADFCO12903CA9439': 3,\n 'TRADFQK128F422B492': 3,\n 'TRADHGV128F4233DE0': 3,\n 'TRADHMQ128F932EB96': 3,\n 'TRADHUZ128F148885D': 3,\n 'TRADHZN128F428DA0D': 3,\n 'TRADIZG128F9338C5C': 3,\n 'TRADKPT12903C980B3': 3,\n 'TRADKYH128F42788EA': 3,\n 'TRADLAB128F931FCAE': 3,\n 'TRADLKP128F92EE50E': 3,\n 'TRADMAJ128F92F566E': 3,\n 'TRADMCH128E0784D99': 3,\n 'TRADMII128F9334AA0': 3,\n 'TRADMRP128F147CBF6': 2,\n 'TRADMXI128F92F1E27': 2,\n 'TRADMZH12903CE4AD0': 2,\n 'TRADMZW12903D0279D': 2,\n 'TRADNRG128F4295A0E': 2,\n 'TRADOEY128F42974FF': 2,\n 'TRADOXP128F145C13A': 2,\n 'TRADOZB128F42312BB': 2,\n 'TRADPDI128F92EBD32': 2,\n 'TRADPQT128F9337C45': 2,\n 'TRADRIH128F92D9646': 2,\n 'TRADRKK128F92FF034': 2,\n 'TRADROR128F42936A4': 2,\n 'TRADRPV128F92E4B4A': 2,\n 'TRADRWF128F425F7BE': 2,\n 'TRADRXC128F4230BE8': 2,\n 'TRADSIB128F93177AB': 2,\n 'TRADSOP12903D0C463': 2,\n 'TRADSQX128F14B0418': 2,\n 'TRADTGV128F14B0D76': 2,\n 'TRADTKR128F92F4419': 2,\n 'TRADTNG128F92F4716': 2,\n 'TRADTXQ128F9331913': 2,\n 'TRADUHX128F931A42B': 2,\n 'TRADULX128F425A590': 2,\n 'TRADUYY12903CB44E9': 2,\n 'TRADVBS128F4223455': 2,\n 'TRADVCK128F92FE22E': 2,\n 'TRADVEH128F4254C0B': 2,\n 'TRADYAN12903CE3478': 2,\n 'TRADYQH128F9338162': 2,\n 'TRADZCV128F4294DFD': 2,\n 'TRADZGC128F9322762': 2,\n 'TRADZLL128F93182D7': 2,\n 'TRADZQG128F93506D5': 2,\n 'TRADZYD128E078BE45': 2,\n 'TRADZZP128F428BCE6': 2,\n 'TRAEACU128F933D7C1': 2,\n 'TRAEBSG128F9317B95': 2,\n 'TRAEDAH12903D05A77': 2,\n 'TRAEELW128F933D255': 2,\n 'TRAEFQG128F429F74E': 2,\n 'TRAEGKP12903CBB66B': 2,\n 'TRAEGRR128F422285F': 2,\n 'TRAEHMP128F92DCC42': 2,\n 'TRAEHTK128F14A4706': 2,\n 'TRAEIKO128F932739F': 2,\n 'TRAEIKW128F1456B1A': 2,\n 'TRAEIMT128F1466ED6': 2,\n 'TRAEISN128F428F699': 2,\n 'TRAEJAC128F427FBDE': 2,\n 'TRAELNO128F42148EF': 2,\n 'TRAEMKJ12903C9D211': 2,\n 'TRAEMTU128EF363016': 2,\n 'TRAENEO128F426789F': 2,\n 'TRAEOAW128F4280F8E': 2,\n 'TRAEOBA12903CAFAB0': 2,\n 'TRAEOOH128F934ACD4': 2,\n 'TRAEOPH128F932E302': 2,\n 'TRAEOUE128F93187B9': 2,\n 'TRAEOUJ128EF352F8B': 2,\n 'TRAEPPP128F92F11E8': 2,\n 'TRAERST128F4267A39': 2,\n 'TRAESQE128F92D0349': 2,\n 'TRAETAG128F93385AE': 2,\n 'TRAETLY128F92FBEE0': 2,\n 'TRAETNO128F4222A06': 2,\n 'TRAETWO128F4261792': 2,\n 'TRAETYC128F933BBF4': 2,\n 'TRAEUYY128F9311B94': 2,\n 'TRAEVKG12903CE75F4': 2,\n 'TRAEWEC128F421F5D9': 2,\n 'TRAEWHH128F428F3AB': 2,\n 'TRAEWQN128F4286306': 2,\n 'TRAEWUR128F1456EAB': 2,\n 'TRAEXAN128EF354542': 2,\n 'TRAEXNK128F14901F8': 2,\n 'TRAFAEO128F92E9A19': 2,\n 'TRAFAGF128F93184F8': 2,\n 'TRAFAKZ128F933D7B9': 2,\n 'TRAFBIO128F930138A': 2,\n 'TRAFBMB128F424FAA4': 2,\n 'TRAFBPN128F428B8CF': 2,\n 'TRAFBSU12903D11AEC': 2,\n 'TRAFCMW128F933E808': 2,\n 'TRAFCZM128F931AD24': 2,\n 'TRAFDPK128F930F2A3': 2,\n 'TRAFDQJ12903CA09B9': 2,\n 'TRAFEUS128F4258E64': 2,\n 'TRAFFDW12903CE53B6': 2,\n 'TRAFFIW128F4236391': 2,\n 'TRAFFPR128F421A35F': 2,\n 'TRAFHHN128F9317216': 2,\n 'TRAFIBT128F92FA8DE': 2,\n 'TRAFIDH128F4275C0D': 2,\n 'TRAFJBM128F9307AA0': 2,\n 'TRAFJRD128F4288F65': 2,\n 'TRAFKDY128F932079B': 2,\n 'TRAFKLJ128F9331BE6': 2,\n 'TRAFLDX128F92DE085': 2,\n 'TRAFMEJ128F4284652': 2,\n 'TRAFMGJ128F4262151': 2,\n 'TRAFMZT12903CBAE53': 2,\n 'TRAFNJM128F933D6DB': 2,\n 'TRAFNMJ128F92D15D8': 2,\n 'TRAFNVU128F932361A': 2,\n 'TRAFNWS128F931A45D': 2,\n 'TRAFPGA12903CE1F1C': 2,\n 'TRAFPLF12903CD8AE1': 2,\n 'TRAFPPX128F92DD3E1': 2,\n 'TRAFPQG128E07870D6': 2,\n 'TRAFPST128F932BBE0': 2,\n 'TRAFQOF128F933E3BA': 2,\n 'TRAFRFF128F9345B75': 2,\n 'TRAFRQY128F93186FB': 2,\n 'TRAFRVU128F42649A6': 2,\n 'TRAFSSU128EF344074': 2,\n 'TRAFTDZ128F42355ED': 2,\n 'TRAFTPO128F9313CF8': 2,\n 'TRAFTVR128F14775A1': 2,\n 'TRAFUGB128F92EDEDC': 2,\n 'TRAFUKW12903CD802A': 2,\n 'TRAFURE12903D1135B': 2,\n 'TRAFUTO128F428E434': 2,\n 'TRAFUXV128F148C901': 2,\n 'TRAFVWT128F42B1656': 2,\n 'TRAFVYN128F42149F0': 2,\n 'TRAFWGD128F422F352': 2,\n 'TRAFXEY128F148AECD': 2,\n 'TRAFXMZ128F42AFC47': 2,\n 'TRAFYRA128F92FD549': 2,\n 'TRAFZHK128F145E86B': 2,\n 'TRAFZRL128F428E465': 2,\n 'TRAGACJ128F427118C': 2,\n 'TRAGACV128F1474DEC': 2,\n 'TRAGARS128F427216A': 2,\n 'TRAGAVF128F424829B': 2,\n 'TRAGBHV128F4295074': 2,\n 'TRAGCKB128F92E9BCA': 2,\n 'TRAGCVM128F92F33FF': 2,\n 'TRAGDFG128F42934A0': 2,\n 'TRAGDPH128F9344020': 2,\n 'TRAGDVU12903CDCD8B': 2,\n 'TRAGEFP128F429B217': 2,\n 'TRAGEXH12903CB4C10': 2,\n 'TRAGFVT128F92ECB5D': 2,\n 'TRAGGQQ128F931D8E1': 2,\n 'TRAGGSJ128F42A5AE1': 2,\n 'TRAGHCZ12903CEC3EF': 2,\n 'TRAGHDO12903CD9736': 2,\n 'TRAGHHH12903CD1137': 2,\n 'TRAGHLT12903CAC941': 2,\n 'TRAGIGX12903CF3AD4': 2,\n 'TRAGIJH128F4280F72': 2,\n 'TRAGJFW12903C9D027': 2,\n 'TRAGJGX12903CB3F2F': 2,\n 'TRAGJOX128F932551E': 2,\n 'TRAGKAC128F4225537': 2,\n 'TRAGKAK128F9324CE4': 2,\n 'TRAGKJS12903CDA8C6': 2,\n 'TRAGKPS12903CA7AE5': 2,\n 'TRAGKXX128F424F3B5': 2,\n 'TRAGLST128F92D93E1': 2,\n 'TRAGLUL128F426F94C': 2,\n 'TRAGLUU12903D024F2': 2,\n 'TRAGLXF128E078703E': 2,\n 'TRAGMAD128F429AEA4': 2,\n 'TRAGNAX128F9313AE8': 2,\n 'TRAGNOK12903CE7FF6': 2,\n 'TRAGNQK12903CCB987': 2,\n 'TRAGNUI128F1471068': 2,\n 'TRAGOJJ128EF3669D8': 2,\n 'TRAGOKC128F42472B9': 2,\n 'TRAGOQJ128F92F44ED': 2,\n 'TRAGOUB128F42369BA': 2,\n 'TRAGPFL128EF342E1D': 2,\n 'TRAGQDM128F92E8E51': 2,\n 'TRAGQLG128F9351109': 2,\n 'TRAGQWI12903CF58A5': 2,\n 'TRAGQXP128F92EE64C': 2,\n 'TRAGRHF128F4295A42': 2,\n 'TRAGSFU12903D0D340': 2,\n 'TRAGSJK128F1491F0A': 2,\n 'TRAGSKH12903CCCAA9': 2,\n 'TRAGSOA128E078F934': 2,\n 'TRAGSQU128F145693D': 2}"
      ]
     },
     "execution_count": 8,
     "metadata": {},
     "output_type": "execute_result"
    }
   ],
   "source": [
    "counter"
   ]
  },
  {
   "cell_type": "code",
   "execution_count": null,
   "metadata": {},
   "outputs": [],
   "source": []
  }
 ],
 "metadata": {
  "kernelspec": {
   "display_name": "Python 2",
   "language": "python",
   "name": "python2"
  },
  "language_info": {
   "codemirror_mode": {
    "name": "ipython",
    "version": 2
   },
   "file_extension": ".py",
   "mimetype": "text/x-python",
   "name": "python",
   "nbconvert_exporter": "python",
   "pygments_lexer": "ipython2",
   "version": "2.7.6"
  }
 },
 "nbformat": 4,
 "nbformat_minor": 0
}
